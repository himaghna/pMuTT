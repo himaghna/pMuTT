{
 "cells": [
  {
   "cell_type": "markdown",
   "metadata": {},
   "source": [
    "# Chemkin Input and Output\n",
    "This notebook describes pMuTT's functionality to read and write Chemkin files. We will use the NH3 formation mechanism as a case study.\n",
    "\n",
    "## Topics Covered\n",
    "- Read species *ab-initio* data, reactions, and catalyst sites from a spreadsheet\n",
    "- Write the thermdat, gas.inp, surf.inp, T_flow.inp, EAg.inp, EAs.inp, tube_mole.inp files"
   ]
  },
  {
   "cell_type": "markdown",
   "metadata": {},
   "source": [
    "## Input Spreadsheet\n",
    "All the data will be imported from the [`./inputs/NH3_Input_data.xlsx`](https://github.com/VlachosGroup/pMuTT/blob/master/docs/source/examples_jupyter/chemkin_io/inputs/NH3_Input_Data.xlsx) file. There are four sheets:\n",
    "1. `cat_sites` contains catalyst site properties for the adsorbed species\n",
    "2. `refs` contains *ab-initio* and experimental data for a handful of gas species to calculate references\n",
    "3. `species` contains *ab-initio* data for each specie\n",
    "4. `reactions` contains elementary steps\n",
    "\n",
    "The contents are displayed below"
   ]
  },
  {
   "cell_type": "markdown",
   "metadata": {},
   "source": [
    "**Catalytic Sites**\n",
    "\n",
    "| name   | site_density | density | bulk_specie |\n",
    "|--------|--------------|---------|-------------|\n",
    "| RU0001 | 2.1671E-09   | 12.2    | RU(B)       |"
   ]
  },
  {
   "cell_type": "markdown",
   "metadata": {},
   "source": [
    "**References**\n",
    "\n",
    "| name | elements.N | elements.H | T_ref  | HoRT_ref     | potentialenergy | symmetrynumber | statmech_model | atoms         | vib_wavenumber | vib_wavenumber | vib_wavenumber | vib_wavenumber |\n",
    "|------|------------|------------|--------|--------------|-----------------|----------------|----------------|---------------|----------------|----------------|----------------|----------------|\n",
    "| N2   | 2          | 0          | 298.15 | 0            | -16.63          | 2              | IdealGas       | ./N2/CONTCAR  | 2744           |\n",
    "| NH3  | 1          | 3          | 298.15 | -18.38025311 | -19.54          | 3              | IdealGas       | ./NH3/CONTCAR | 3534           | 3464           | 1765           | 1139           |\n",
    "| H2   | 0          | 2          | 298.15 | 0            | -6.7700         | 2              | IdealGas       | ./H2/CONTCAR  | 4342           |"
   ]
  },
  {
   "cell_type": "markdown",
   "metadata": {},
   "source": [
    "**Species**\n",
    "\n",
    "| name | elements.N | elements.H | phase | statmech_model | symmetrynumber | atoms | potentialenergy | vib_wavenumber | vib_wavenumber | vib_wavenumber | vib_wavenumber | vib_wavenumber | vib_wavenumber | vib_wavenumber | vib_wavenumber | vib_wavenumber | vib_wavenumber | vib_wavenumber | vib_wavenumber |\n",
    "|------------|------------|------------|-------|----------------|----------------|---------------|-----------------|----------------|----------------|----------------|----------------|----------------|----------------|----------------|----------------|----------------|----------------|----------------|----------------|\n",
    "| N2 | 2 | 0 | G | IdealGas | 2 | ./N2/CONTCAR | -16.63 | 2744.00 |\n",
    "| NH3 | 1 | 3 | G | IdealGas | 3 | ./NH3/CONTCAR | -19.54 | 3534.00 | 3464.00 | 1765.00 | 1139.00 |\n",
    "| H2 | 0 | 2 | G | IdealGas | 2 | ./H2/CONTCAR | -6.77 | 4342.00 |\n",
    "| N2(S) | 2 | 0 | S | Harmonic |  |  | -17.24 | 2197.19 | 360.42 | 347.34 | 335.67 | 62.08 | 32.18 |\n",
    "| N(S) | 1 | 0 | S | Harmonic |  |  | -9.34 | 549.11 | 538.56 | 504.32 | 475.81 | 459.08 | 410.02 |\n",
    "| H(S) | 0 | 1 | S | Harmonic |  |  | -4.00 | 1003.51 | 625.55 | 616.29 |\n",
    "| NH3(S) | 1 | 3 | S | Harmonic |  |  | -20.43 | 3491.09 | 3488.82 | 3364.52 | 1583.52 | 1582.07 | 1124.22 | 570.21 | 567.22 | 333.09 | 122.86 | 83.83 | 70.63 |\n",
    "| NH2(S) | 1 | 2 | S | Harmonic |  |  | -16.59 | 3469.30 | 3381.05 | 1503.02 | 698.87 | 625.60 | 615.94 | 475.13 | 298.12 | 153.25 |\n",
    "| NH(S) | 1 | 1 | S | Harmonic |  |  | -13.21 | 3403.13 | 718.18 | 710.58 | 528.53 | 415.20 | 410.13 |\n",
    "| TS1_NH3(S) | 1 | 3 | S | Harmonic |  |  | -19.53 | 3453.41 | 3355.67 | 1723.85 | 1487.95 | 959.15 | 888.95 | 594.09 | 428.43 | 227.03 | 206.05 | 142.14 |  |\n",
    "| TS2_NH2(S) | 1 | 2 | S | Harmonic |  |  | -16.09 | 3426.44 | 1293.72 | 922.83 | 660.97 | 525.60 | 496.84 | 330.67 | 290.28 |\n",
    "| TS3_NH(S) | 1 | 1 | S | Harmonic |  |  | -12.91 | 1201.60 | 491.57 | 462.02 | 402.16 | 242.14 |\n",
    "| TS4_N2(S) | 2 | 0 | S | Harmonic |  |  | -16.54 | 485.61 | 392.98 | 386.19 | 280.94 | 168.43 |\n",
    "| RU(S) | 0 | 0 | S | Placeholder |\n",
    "| RU(B) | 0 | 0 | S | Placeholder |"
   ]
  },
  {
   "cell_type": "markdown",
   "metadata": {},
   "source": [
    "**Reactions**\n",
    "\n",
    "| reaction_str                                        | is_adsorption |\n",
    "|-----------------------------------------------------|---------------|\n",
    "| H2 + 2RU(S) = 2H(S) + 2RU(B)                        | TRUE          |\n",
    "| N2 + RU(S)  = N2(S) + RU(B)                         | TRUE          |\n",
    "| NH3 + RU(S) = NH3(S) + RU(B)                        | TRUE          |\n",
    "| NH3(S) + RU(S)= TS1_NH3(S) = NH2(S) + H(S) + RU(B)  | FALSE         |\n",
    "| NH2(S) + RU(S) = TS2_NH2(S) = NH(S)  + H(S) + RU(B) | FALSE         |\n",
    "| NH(S)  + RU(S) = TS3_NH(S) = N(S)   + H(S) + RU(B)  | FALSE         |\n",
    "| 2N(S) + RU(B) = TS4_N2(S) = N2(S)  +  RU(S)         | FALSE         |"
   ]
  },
  {
   "cell_type": "markdown",
   "metadata": {},
   "source": [
    "## Reading data\n",
    "Before we can initialize our species, we need the catalytic sites and the references.\n",
    "\n",
    "### Reading Catalytic Sites"
   ]
  },
  {
   "cell_type": "code",
   "execution_count": 1,
   "metadata": {},
   "outputs": [
    {
     "name": "stdout",
     "output_type": "stream",
     "text": [
      "{'bulk_specie': 'RU(B)',\n",
      " 'class': \"<class 'pMuTT.chemkin.CatSite'>\",\n",
      " 'density': 12.2,\n",
      " 'name': 'RU0001',\n",
      " 'site_density': 2.1671e-09}\n"
     ]
    }
   ],
   "source": [
    "import os\n",
    "from pprint import pprint\n",
    "from pathlib import Path\n",
    "from pMuTT.io_.excel import read_excel\n",
    "from pMuTT.chemkin import CatSite\n",
    "\n",
    "# Find the location of Jupyter notebook\n",
    "# Note that normally Python scripts have a __file__ variable but Jupyter notebook doesn't.\n",
    "# Using pathlib can overcome this limiation\n",
    "notebook_path = Path().resolve()\n",
    "os.chdir(notebook_path)\n",
    "excel_path = './inputs/NH3_Input_data.xlsx'\n",
    "\n",
    "cat_site_data = read_excel(io=excel_path, sheet_name='cat_sites')[0]\n",
    "cat_site = CatSite(**cat_site_data)\n",
    "\n",
    "# Print the properties of the catalyst site\n",
    "pprint(cat_site.to_dict())"
   ]
  },
  {
   "cell_type": "markdown",
   "metadata": {},
   "source": [
    "### Reading reference species"
   ]
  },
  {
   "cell_type": "code",
   "execution_count": 2,
   "metadata": {},
   "outputs": [
    {
     "name": "stdout",
     "output_type": "stream",
     "text": [
      "{'H': -129.34222830159834, 'N': -320.10077207763885}\n"
     ]
    }
   ],
   "source": [
    "from pMuTT.empirical.references import Reference, References\n",
    "\n",
    "references_data = read_excel(io=excel_path, sheet_name='refs')\n",
    "\n",
    "# Convert data to Reference objects and put them in a list\n",
    "refs_list = [Reference(**ref_data) for ref_data in references_data]\n",
    "\n",
    "# Assign the Reference objects to a References object so offsets can be calculated\n",
    "refs = References(references=refs_list)\n",
    "\n",
    "# Print out the offsets calculated\n",
    "print(refs.offset)"
   ]
  },
  {
   "cell_type": "markdown",
   "metadata": {},
   "source": [
    "### Reading species"
   ]
  },
  {
   "cell_type": "code",
   "execution_count": 3,
   "metadata": {},
   "outputs": [
    {
     "name": "stderr",
     "output_type": "stream",
     "text": [
      "C:\\Users\\jonat\\AppData\\Roaming\\Python\\Python36\\site-packages\\scipy\\stats\\stats.py:1025: RuntimeWarning: invalid value encountered in double_scalars\n",
      "  return a.std(axis) / a.mean(axis)\n"
     ]
    }
   ],
   "source": [
    "from pMuTT.empirical.nasa import Nasa\n",
    "\n",
    "# Range of data to fit the Nasa polynomials\n",
    "T_low = 298. # K\n",
    "T_high = 800. # K\n",
    "\n",
    "species_data = read_excel(io=excel_path, sheet_name='species')\n",
    "species = []\n",
    "for specie_data in species_data:\n",
    "    specie = Nasa.from_statmech(T_low=T_low, T_high=T_high, references=refs, **specie_data)\n",
    "    # If the species is a surface species, assign the catalyst site specified above\n",
    "    if specie.phase.lower() == 's':\n",
    "        specie.cat_site = cat_site\n",
    "        specie.n_sites = 1\n",
    "    species.append(specie)"
   ]
  },
  {
   "cell_type": "markdown",
   "metadata": {},
   "source": [
    "The warning above is typical when empirical objects are fitting to `StatMech` objects with the `placeholder` preset."
   ]
  },
  {
   "cell_type": "markdown",
   "metadata": {},
   "source": [
    "### Reading reactions"
   ]
  },
  {
   "cell_type": "code",
   "execution_count": 4,
   "metadata": {},
   "outputs": [],
   "source": [
    "from pMuTT import pMuTT_list_to_dict\n",
    "from pMuTT.reaction import ChemkinReaction, Reactions\n",
    "\n",
    "# Convert list of Nasa polynomials to dictionary of Nasa polynomials\n",
    "species_dict = pMuTT_list_to_dict(species)\n",
    "\n",
    "reactions_data = read_excel(io=excel_path, sheet_name='reactions')\n",
    "reactions_list = []\n",
    "for reaction_data in reactions_data:\n",
    "    reaction = ChemkinReaction.from_string(species=species_dict, **reaction_data)\n",
    "    reactions_list.append(reaction)\n",
    "reactions = Reactions(reactions=reactions_list)"
   ]
  },
  {
   "cell_type": "markdown",
   "metadata": {},
   "source": [
    "## Writing Chemkin files\n",
    "Now that we have all the required objects, we can write the output files. All outputs can be found in the [./outputs folder](https://github.com/VlachosGroup/pMuTT/blob/master/docs/source/examples_jupyter/chemkin_io/outputs)."
   ]
  },
  {
   "cell_type": "markdown",
   "metadata": {},
   "source": [
    "### Writing thermdat"
   ]
  },
  {
   "cell_type": "code",
   "execution_count": 5,
   "metadata": {},
   "outputs": [],
   "source": [
    "from pMuTT.io_.thermdat import write_thermdat\n",
    "\n",
    "write_thermdat(filename='./outputs/thermdat', nasa_species=species)"
   ]
  },
  {
   "cell_type": "markdown",
   "metadata": {},
   "source": [
    "The thermdat file written in shown below.\n",
    "```\n",
    "THERMO ALL\n",
    "       100       500      1500\n",
    "N2              20190314N   2               G298.0     800.0     523.4         1\n",
    " 3.75207309E+00-1.30159027E-03 1.83848785E-06-1.17413430E-10-3.65391117E-13    2\n",
    "-1.67464905E+02 2.01171161E+00 3.41792195E+00 8.91688129E-04-3.46864753E-06    3\n",
    " 5.44691795E-09-2.46804017E-12-1.27217456E+02 3.45609372E+00                   4\n",
    "NH3             20190314N   1H   3          G298.0     800.0     533.6         1\n",
    " 3.29427463E+00 2.57481517E-03 5.20883059E-07-1.00678313E-09 3.59356180E-13    2\n",
    "-8.39739662E+03 3.58202003E+00 4.57124680E+00-6.89724277E-03 2.70972941E-05    3\n",
    "-3.44331645E-08 1.62568430E-11-8.53630325E+03-1.79552658E+00                   4\n",
    "H2              20190314H   2               G298.0     800.0     574.6         1\n",
    " 3.37903251E+00 7.92301907E-04-1.88662952E-06 1.85974220E-09-5.68447254E-13    2\n",
    " 1.70231785E+03-3.76701177E+00 3.50717925E+00-8.50397135E-05 3.79570576E-07    3\n",
    "-7.57943298E-10 5.72423558E-13 1.68725520E+03-4.31675916E+00                   4\n",
    "N2(S)           20190314N   2               S298.0     800.0     482.4         1\n",
    " 3.42605836E+00 5.03710708E-03-6.92689694E-06 6.03246113E-09-2.18862675E-12    2\n",
    "-7.10922368E+03-1.39236755E+01 4.40553502E-01 2.97759950E-02-8.47698148E-05    3\n",
    " 1.16195177E-07-6.12938589E-11-6.81726811E+03-1.67561821E+00                   4\n",
    "N(S)            20190314N   1               S298.0     800.0     502.9         1\n",
    "-8.29107669E-01 2.64469843E-02-4.38832016E-05 3.47600781E-08-1.07819310E-11    2\n",
    "-1.10025913E+04 5.84749603E-01-5.23174593E+00 6.11537184E-02-1.47762309E-04    3\n",
    " 1.74618161E-07-8.21997526E-11-1.05502378E+04 1.88654280E+01                   4\n",
    "H(S)            20190314H   1               S298.0     800.0     461.9         1\n",
    "-2.11302416E+00 1.72572991E-02-2.60046478E-05 1.92388088E-08-5.68363784E-12    2\n",
    "-6.07693323E+03 8.35415551E+00-1.41307531E+00 1.00687718E-02 1.09758988E-06    3\n",
    "-2.55216914E-08 2.17566538E-11-6.12970520E+03 5.64702945E+00                   4\n",
    "NH3(S)          20190314N   1H   3          S298.0     800.0     461.9         1\n",
    " 1.58312977E+00 1.57753291E-02-1.71587153E-05 1.15414255E-08-3.21958978E-12    2\n",
    "-1.42569335E+04-6.35113154E+00 1.16759533E+00 2.05732170E-02-3.66958772E-05    3\n",
    " 4.56112325E-08-2.49628744E-11-1.42313136E+04-4.80541265E+00                   4\n",
    "NH2(S)          20190314N   1H   2          S298.0     800.0     523.4         1\n",
    "-6.86530719E-01 2.43298826E-02-3.68705157E-05 2.88483783E-08-8.86963660E-12    2\n",
    "-1.19475429E+04 1.03190122E+00-2.56305506E+00 3.84726874E-02-7.73503504E-05    3\n",
    " 8.09903199E-08-3.43595838E-11-1.17458710E+04 8.90805309E+00                   4\n",
    "NH(S)           20190314N   1H   1          S298.0     800.0     543.9         1\n",
    "-1.33660645E+00 2.33106600E-02-3.77180253E-05 2.97486446E-08-9.12157176E-12    2\n",
    "-1.48903408E+04 3.58875312E+00-3.73687435E+00 4.05226889E-02-8.44226964E-05    3\n",
    " 8.65932632E-08-3.53036247E-11-1.46202194E+04 1.37781593E+01                   4\n",
    "TS1_NH3(S)      20190314N   1H   3          S298.0     800.0     451.7         1\n",
    " 5.21221040E-02 2.11615812E-02-2.49542203E-05 1.66204937E-08-4.59897868E-12    2\n",
    "-5.86628985E+03-1.43112446E+00 4.96418515E-02 2.15674671E-02-2.75604959E-05    3\n",
    " 2.23225323E-08-8.79255935E-12-5.87008224E+03-1.46494399E+00                   4\n",
    "TS2_NH2(S)      20190314N   1H   2          S298.0     800.0     554.1         1\n",
    "-1.48538501E+00 2.67287608E-02-3.86606417E-05 2.81558194E-08-8.15140597E-12    2\n",
    "-8.43975871E+03 4.23478568E+00-2.58881424E+00 3.43781302E-02-5.87419101E-05    3\n",
    " 5.18321984E-08-1.87340797E-11-8.31127804E+03 8.95651586E+00                   4\n",
    "TS3_NH(S)       20190314N   1H   1          S298.0     800.0     482.4         1\n",
    "-1.24242592E-01 1.65859456E-02-2.43704704E-05 1.77594067E-08-5.19878424E-12    2\n",
    "-1.39060398E+04-1.18117850E+00-1.80701218E+00 3.07479132E-02-6.96816870E-05    3\n",
    " 8.30020912E-08-4.08170225E-11-1.37437409E+04 5.69757432E+00                   4\n",
    "TS4_N2(S)       20190314N   2               S298.0     800.0     482.4         1\n",
    " 1.52431744E+00 1.40315985E-02-2.40821843E-05 1.96281604E-08-6.24114074E-12    2\n",
    "-1.24945441E+02-8.60931129E+00-1.75107618E+00 4.12189598E-02-1.09828935E-04    3\n",
    " 1.41320046E-07-7.17404084E-11 1.95040067E+02 4.82355594E+00                   4\n",
    "RU(S)           20190314                    S298.0     800.0     554.1         1\n",
    " 0.00000000E+00 0.00000000E+00 0.00000000E+00 0.00000000E+00 0.00000000E+00    2\n",
    " 0.00000000E+00 0.00000000E+00 0.00000000E+00 0.00000000E+00 0.00000000E+00    3\n",
    " 0.00000000E+00 0.00000000E+00 0.00000000E+00 0.00000000E+00                   4\n",
    "RU(B)           20190314                    S298.0     800.0     554.1         1\n",
    " 0.00000000E+00 0.00000000E+00 0.00000000E+00 0.00000000E+00 0.00000000E+00    2\n",
    " 0.00000000E+00 0.00000000E+00 0.00000000E+00 0.00000000E+00 0.00000000E+00    3\n",
    " 0.00000000E+00 0.00000000E+00 0.00000000E+00 0.00000000E+00                   4\n",
    "END\n",
    "```"
   ]
  },
  {
   "cell_type": "markdown",
   "metadata": {},
   "source": [
    "### Writing gas.inp and surf.inp"
   ]
  },
  {
   "cell_type": "code",
   "execution_count": 6,
   "metadata": {},
   "outputs": [],
   "source": [
    "from pMuTT.io_ import chemkin as ck_io\n",
    "\n",
    "ck_io.write_gas(filename='./outputs/gas.inp', nasa_species=species, reactions=reactions, act_method_name='get_GoRT_act')\n",
    "ck_io.write_surf(filename='./outputs/surf.inp', nasa_species=species, reactions=reactions, act_method_name='get_GoRT_act')"
   ]
  },
  {
   "cell_type": "markdown",
   "metadata": {},
   "source": [
    "<a id='act_method_name_explanation'></a>\n",
    "Note that `act_method_name` is 'get_GoRT_act'. We use this formalism here since we do not include entropic effects in the preexponential factor.\n",
    "\n",
    "The gas.inp file written is shown below. Note there are no gas-phase reactions.\n",
    "\n",
    "```\n",
    "!File generated by pMuTT on 2019-03-14 11:04:35.953210\n",
    "!Elements present in gas and surface species\n",
    "ELEMENTS\n",
    "N\n",
    "H\n",
    "END\n",
    "\n",
    "!Gas-phase species\n",
    "SPECIES\n",
    "N2\n",
    "NH3\n",
    "H2\n",
    "END\n",
    "\n",
    "!Gas-phase reactions. The rate constant expression is:\n",
    "!k = kb/h * (T)^beta * exp(-Ea/RT)\n",
    "!Each line has 4 columns:\n",
    "!- Reaction reactants and products separated by <=>\n",
    "!- Preexponential factor, kb/h\n",
    "!- Beta (power to raise T in rate constant expression)\n",
    "!- Ea (Activation Energy or Gibbs energy of activation in kcal/mol\n",
    "REACTIONS\n",
    "END\n",
    "```\n",
    "\n",
    "The surf.inp file written in shown below.\n",
    "```\n",
    "!File generated by pMuTT on 2019-03-14 11:04:35.964181\n",
    "!Surface species\n",
    "!Each catalyst site has the following format:\n",
    "!SITE/[Site name]/      SDEN/[Site density in mol/cm2]/\n",
    "![Adsorbate Name]/[# of Sites occupied]/ (for every adsorbate)\n",
    "!BULK [Bulk name]/[Bulk density in g/cm3]\n",
    "SITE/RU0001/       SDEN/2.16710E-09/\n",
    "\n",
    "  N2(S)/1/\n",
    "  N(S)/1/\n",
    "  H(S)/1/\n",
    "  NH3(S)/1/\n",
    "  NH2(S)/1/\n",
    "  NH(S)/1/\n",
    "  TS1_NH3(S)/1/\n",
    "  TS2_NH2(S)/1/\n",
    "  TS3_NH(S)/1/\n",
    "  TS4_N2(S)/1/\n",
    "  RU(S)/1/\n",
    "\n",
    "BULK RU(B)/12.2/\n",
    "END\n",
    "\n",
    "!Gas-phase reactions.\n",
    "!The reaction line has the following format:\n",
    "!REACTIONS  MW[ON/OFF]   [Ea units]\n",
    "!where MW stands for Motz-Wise corrections and if the Ea\n",
    "!units are left blank, then the activation energy should be dimensionless (i.e. E/RT)\n",
    "!The rate constant expression is:\n",
    "!k = kb/h/site_den^(n-1) * (T)^beta * exp(-Ea/RT)\n",
    "!where site_den is the site density and is the number of surface species (including empty sites)\n",
    "!Each line has 4 columns:\n",
    "!- Reaction reactants and products separated by =\n",
    "!- Preexponential factor, kb/h/site_den^(n-1), or \n",
    "!  sticking coefficient if adsorption reaction\n",
    "!- Beta (power to raise T in rate constant expression)\n",
    "!- Ea (Activation Energy or Gibbs energy of activation in specified units\n",
    "!Adsorption reactions can be represented using the STICK keyword\n",
    "REACTIONS  MWON   \n",
    "H2+2RU(S)=2H(S)+2RU(B)           5.000E-01   1.000E+00   0.000E+00\n",
    "STICK\n",
    "N2+RU(S)=N2(S)+RU(B)             5.000E-01   1.000E+00   0.000E+00\n",
    "STICK\n",
    "NH3+RU(S)=NH3(S)+RU(B)           5.000E-01   1.000E+00   0.000E+00\n",
    "STICK\n",
    "NH3(S)+RU(S)=NH2(S)+H(S)+RU(B)   9.615E+18   1.000E+00   2.972E+01\n",
    "NH2(S)+RU(S)=NH(S)+H(S)+RU(B)    9.615E+18   1.000E+00   1.199E+01\n",
    "NH(S)+RU(S)=N(S)+H(S)+RU(B)      9.615E+18   1.000E+00   3.203E+00\n",
    "2N(S)+RU(B)=N2(S)+RU(S)          9.615E+18   1.000E+00   7.317E+01\n",
    "END\n",
    "```"
   ]
  },
  {
   "cell_type": "markdown",
   "metadata": {},
   "source": [
    "### Writing T_flow.inp"
   ]
  },
  {
   "cell_type": "code",
   "execution_count": 7,
   "metadata": {},
   "outputs": [],
   "source": [
    "# Conditions used to write files\n",
    "T = [300., 400., 500.] # Temperature in K\n",
    "P = [1., 2., 3.] # Pressure in atm\n",
    "Q = [10., 20., 30.] # Standard volumetric flow rate in cm3\n",
    "abyv= [100., 50., 25.] # Catalyst surface area to reactor volume in 1/cm\n",
    "\n",
    "ck_io.write_T_flow(filename='./outputs/T_flow.inp', T=T, P=P, Q=Q, abyv=abyv)"
   ]
  },
  {
   "cell_type": "markdown",
   "metadata": {},
   "source": [
    "The T_flow.inp file written is shown below.\n",
    "\n",
    "```\n",
    "!File generated by pMuTT on 2019-03-14 11:04:35.974154\n",
    "!Conditions for each reaction run\n",
    "!Only used when MultiInput in tube.inp is set to \"T\"\n",
    "!T[K]      P[atm]     Q[cm3/s]   abyv[cm-1]  Run #\n",
    "3.000E+02  1.000E+00  1.000E+01  1.000E+02  !1  \n",
    "4.000E+02  2.000E+00  2.000E+01  5.000E+01  !2  \n",
    "5.000E+02  3.000E+00  3.000E+01  2.500E+01  !3 \n",
    "```"
   ]
  },
  {
   "cell_type": "markdown",
   "metadata": {},
   "source": [
    "### Writing EAg.inp and EAs.inp"
   ]
  },
  {
   "cell_type": "code",
   "execution_count": 8,
   "metadata": {},
   "outputs": [],
   "source": [
    "# Convert T_flow inputs into list of dictionaries that can be used by write_EA.\n",
    "# In the future, this will be replaced by a function\n",
    "conditions = []\n",
    "for T_i, P_i, Q_i, abyv_i in zip(T, P, Q, abyv):\n",
    "    condition = {\n",
    "        'T': T_i,\n",
    "        'P': P_i,\n",
    "        'Q': Q_i,\n",
    "        'abyv': abyv}\n",
    "    conditions.append(condition)\n",
    "\n",
    "ck_io.write_EA(filename='./outputs/EAs.inp',\n",
    "               reactions=reactions,\n",
    "               write_gas_phase=False,\n",
    "               act_method_name='get_GoRT_act',\n",
    "               conditions=conditions)\n",
    "ck_io.write_EA(filename='./outputs/EAg.inp',\n",
    "               reactions=reactions,\n",
    "               write_gas_phase=True,\n",
    "               act_method_name='get_GoRT_act',\n",
    "               conditions=conditions)"
   ]
  },
  {
   "cell_type": "markdown",
   "metadata": {},
   "source": [
    "Reminder that we use `act_method_name` as 'get_GoRT_act' for the [reason described above](#act_method_name_explanation).\n",
    "\n",
    "The EAg.inp file is shown below.\n",
    "```\n",
    "!File generated by pMuTT on 2019-03-14 11:04:36.004074\n",
    "!The first line is the number of reactions. Subsequent lines follow the format\n",
    "!of rxn (from surf.out) followed by the EA/RT value at each run condition.\n",
    "!There may be one slight deviation from surf.out: any repeated species should\n",
    "!be included in the reaction string with a stoichiometric coefficient equal to\n",
    "!the number of times the species appears in the reaction. If not using\n",
    "!MultiInput, then only the first value is used.\n",
    "  0  !Number of reactions\n",
    "!           1          2          3\n",
    "EOF\n",
    "```\n",
    "\n",
    "The EAs.inp file is shown below.\n",
    "```\n",
    "!File generated by pMuTT on 2019-03-14 11:04:35.990111\n",
    "!The first line is the number of reactions. Subsequent lines follow the format\n",
    "!of rxn (from surf.out) followed by the EA/RT value at each run condition.\n",
    "!There may be one slight deviation from surf.out: any repeated species should\n",
    "!be included in the reaction string with a stoichiometric coefficient equal to\n",
    "!the number of times the species appears in the reaction. If not using\n",
    "!MultiInput, then only the first value is used.\n",
    "  7  !Number of reactions\n",
    "!                                           1          2          3\n",
    "H2+2RU(S)<=>2H(S)+2RU(B)             0.00E+00   0.00E+00   0.00E+00\n",
    "N2+RU(S)<=>N2(S)+RU(B)               0.00E+00   0.00E+00   2.47E+00\n",
    "NH3+RU(S)<=>NH3(S)+RU(B)             0.00E+00   1.59E+00   4.45E+00\n",
    "NH3(S)+RU(S)<=>NH2(S)+H(S)+RU(B)     2.95E+01   2.28E+01   1.88E+01\n",
    "NH2(S)+RU(S)<=>NH(S)+H(S)+RU(B)      1.19E+01   9.12E+00   7.46E+00\n",
    "NH(S)+RU(S)<=>N(S)+H(S)+RU(B)        3.18E+00   2.23E+00   1.65E+00\n",
    "2N(S)+RU(B)<=>N2(S)+RU(S)            7.27E+01   5.49E+01   4.45E+01\n",
    "EOF\n",
    "```"
   ]
  },
  {
   "cell_type": "markdown",
   "metadata": {},
   "source": [
    "### Writing tube_mole.inp"
   ]
  },
  {
   "cell_type": "code",
   "execution_count": 9,
   "metadata": {},
   "outputs": [
    {
     "name": "stdout",
     "output_type": "stream",
     "text": [
      "'N2/GAS/'        \n",
      "'NH3/GAS/'       \n",
      "'H2/GAS/'        \n",
      "'RU(S)/RU0001/'  \n"
     ]
    }
   ],
   "source": [
    "import numpy as np\n",
    "\n",
    "# Generating a list of conditions to input\n",
    "mole_frac_conditions = []\n",
    "for x_N2 in np.linspace(0., 0.25, 3):\n",
    "    x_H2 = x_N2*3.\n",
    "    x_NH3 = 1. - x_N2 - x_H2\n",
    "    mole_fractions = {'N2': x_N2, 'H2': x_H2, 'NH3': x_NH3, 'RU(S)': 1.}\n",
    "    mole_frac_conditions.append(mole_fractions)\n",
    "    \n",
    "# Write the tube_mole.inp file\n",
    "ck_io.write_tube_mole(mole_frac_conditions=mole_frac_conditions, \n",
    "                      nasa_species=species, \n",
    "                      filename='./outputs/tube_mole.inp')"
   ]
  },
  {
   "cell_type": "markdown",
   "metadata": {},
   "source": [
    "The tube_mole.inp file is shown below.\n",
    "\n",
    "```\n",
    "!File generated by pMuTT on 2019-03-14 11:14:44.502516\n",
    "!Specify the 'species/phase/' pair /(in quotes!)/ and the associated\n",
    "!composition values. If the composition does not sum to 1 for each phase or\n",
    "!site type, it will be renormalized to 1. At the end of a calculation, a\n",
    "!file containing the complete composition and mass flux (the last entry) will\n",
    "!be generated. This file's format is completely compatible with the current\n",
    "!input file and can be used to restart that calculation.\n",
    "0       itube_restart -- will be >0 if a restart file is used or 0 for the first run\n",
    "4      Number of nonzero species\n",
    "!                       1       2       3\n",
    "'N2/GAS/'           0.000   0.125   0.250\n",
    "'NH3/GAS/'          1.000   0.500   0.000\n",
    "'H2/GAS/'           0.000   0.375   0.750\n",
    "'RU(S)/RU0001/'     1.000   1.000   1.000\n",
    "EOF\n",
    "```"
   ]
  },
  {
   "cell_type": "code",
   "execution_count": null,
   "metadata": {},
   "outputs": [],
   "source": []
  }
 ],
 "metadata": {
  "kernelspec": {
   "display_name": "Python 3",
   "language": "python",
   "name": "python3"
  },
  "language_info": {
   "codemirror_mode": {
    "name": "ipython",
    "version": 3
   },
   "file_extension": ".py",
   "mimetype": "text/x-python",
   "name": "python",
   "nbconvert_exporter": "python",
   "pygments_lexer": "ipython3",
   "version": "3.6.8"
  }
 },
 "nbformat": 4,
 "nbformat_minor": 2
}
