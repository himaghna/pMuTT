{
 "cells": [
  {
   "cell_type": "markdown",
   "metadata": {},
   "source": [
    "# Phase Diagram\n",
    "In this example, we will generate a 1D and 2D phase diagram for FeOx species.\n",
    "\n",
    "## Topics Covered\n",
    "- Create ``Nasa`` and ``StatMech`` objects \n",
    "- Initialize ``Reaction`` objects to describe the formation reaction of FeOx species\n",
    "- Generate a 1D phase diagram by varying T\n",
    "- Generate a 2D phase diagram by varying T and P\n",
    "- Save the ``PhaseDiagram`` object as a ``JSON`` file"
   ]
  },
  {
   "cell_type": "markdown",
   "metadata": {},
   "source": [
    "## Create Species for Phase Diagram\n",
    "We will be considering three iron oxide species: FeO, Fe3O4, and Fe2O3. All the empirical data (from NIST) will be converted to ``Nasa`` objects. O2, on the other hand, will be a ``StatMech`` object so that it will be dependent on pressure.\n",
    "\n",
    "If you are unfamiliar with initializing objects using experimental data, see the Experimental to Empirical example."
   ]
  },
  {
   "cell_type": "code",
   "execution_count": 1,
   "metadata": {
    "scrolled": true
   },
   "outputs": [
    {
     "name": "stdout",
     "output_type": "stream",
     "text": [
      "{'Fe': Nasa object for Name: Fe\n",
      "\tphase: None\n",
      "\telements: None\n",
      "\treferences: None\n",
      "\tnotes: None\n",
      "\tstatmech_model: None\n",
      "\tT_low: 298.0\n",
      "\tT_mid: 380.0\n",
      "\tT_high: 500.0\n",
      "\ta_low: [ 2.01449208e+00  4.56218533e-03 -6.39848753e-06  9.56223988e-09\n",
      " -5.16521158e-12 -7.62871062e+02 -9.34191359e+00]\n",
      "\ta_high: [ 2.09765123e+00  3.68475333e-03 -2.91355935e-06  3.38794160e-09\n",
      " -1.04854127e-12 -7.69200680e+02 -9.66260833e+00],\n",
      " 'Fe2O3': Nasa object for Name: Fe2O3\n",
      "\tphase: None\n",
      "\telements: None\n",
      "\treferences: None\n",
      "\tnotes: None\n",
      "\tstatmech_model: None\n",
      "\tT_low: 298.0\n",
      "\tT_mid: 380.0\n",
      "\tT_high: 500.0\n",
      "\ta_low: [-1.45020829e+01  2.16728052e-01 -6.84930159e-04  1.07356269e-06\n",
      " -6.58251701e-10 -1.00352063e+05  5.07720517e+01]\n",
      "\ta_high: [-3.90419180e+00  1.04908021e-01 -2.40814218e-04  2.86723130e-07\n",
      " -1.33637083e-10 -1.01158722e+05  9.90229288e+00],\n",
      " 'Fe3O4': Nasa object for Name: Fe3O4\n",
      "\tphase: None\n",
      "\telements: None\n",
      "\treferences: None\n",
      "\tnotes: None\n",
      "\tstatmech_model: None\n",
      "\tT_low: 298.0\n",
      "\tT_mid: 380.0\n",
      "\tT_high: 500.0\n",
      "\ta_low: [-3.34832035e+00  1.47151692e-01 -4.17555995e-04  6.60634156e-07\n",
      " -4.06146548e-10 -1.37776863e+05  6.19804710e+00]\n",
      "\ta_high: [ 3.19067803e+00  7.81576955e-02 -1.43532401e-04  1.75147075e-07\n",
      " -8.24547042e-11 -1.38274579e+05 -1.90189793e+01],\n",
      " 'FeO': Nasa object for Name: FeO\n",
      "\tphase: None\n",
      "\telements: None\n",
      "\treferences: None\n",
      "\tnotes: None\n",
      "\tstatmech_model: None\n",
      "\tT_low: 298.0\n",
      "\tT_mid: 380.0\n",
      "\tT_high: 500.0\n",
      "\ta_low: [ 4.20444149e+00  1.25324622e-02 -3.49507772e-05  5.40908877e-08\n",
      " -3.31979413e-11 -3.43115166e+04 -1.92444434e+01]\n",
      "\ta_high: [ 4.73893289e+00  6.89296183e-03 -1.25523691e-05  1.44076787e-08\n",
      " -6.73970947e-12 -3.43521995e+04 -2.13056590e+01],\n",
      " 'O2': <pMuTT.statmech.StatMech object at 0x0000025DE909DEF0>}\n"
     ]
    }
   ],
   "source": [
    "from pprint import pprint\n",
    "import numpy as np\n",
    "from ase.build import molecule\n",
    "from pMuTT.empirical.nasa import Nasa\n",
    "from pMuTT.statmech import StatMech, presets\n",
    "\n",
    "# Temperature (in K) corresponding to standard enthalpy \n",
    "# and standard entropy\n",
    "T_ref = 298.\n",
    "\n",
    "# Temperatures (in K) corresponding to heat capacity\n",
    "T = np.array([298., 300., 305., 310., 315., 320., 325., 330., \n",
    "              335., 340., 345., 350., 355., 360., 365., 370., \n",
    "              375., 380., 385., 390., 395., 400., 405., 410., \n",
    "              415., 420., 425., 430., 435., 440., 445., 450., \n",
    "              455., 460., 465., 470., 475., 480., 485., 490., \n",
    "              495., 500])\n",
    "\n",
    "# Fe data\n",
    "CpoR_Fe = np.array([3.018129466, 3.023626079, 3.037347372, \n",
    "                    3.051041872, 3.06471211, 3.078360492, \n",
    "                    3.091989304, 3.105600726, 3.119196843, \n",
    "                    3.13277965, 3.14635106, 3.159912915, \n",
    "                    3.173466988, 3.187014988, 3.20055857, \n",
    "                    3.214099334, 3.227638833, 3.241178576, \n",
    "                    3.25472003, 3.268264625, 3.281813753, \n",
    "                    3.295368778, 3.308931031, 3.322501816, \n",
    "                    3.336082411, 3.34967407, 3.363278024, \n",
    "                    3.376895484, 3.390527642, 3.404175671, \n",
    "                    3.417840728, 3.431523954, 3.445226474, \n",
    "                    3.458949401, 3.472693834, 3.486460862, \n",
    "                    3.500251559, 3.514066993, 3.527908217, \n",
    "                    3.54177628, 3.555672217, 3.569597059])\n",
    "HoRT_Fe = 0.\n",
    "SoR_Fe = 3.284428696\n",
    "\n",
    "# FeO data\n",
    "CpoR_FeO = np.array([6.004980757, 6.010160937, 6.022964518, \n",
    "                     6.035567503, 6.047980643, 6.060213866, \n",
    "                     6.072276342, 6.084176563, 6.095922395, \n",
    "                     6.107521136, 6.118979564, 6.130303982, \n",
    "                     6.141500259, 6.152573863, 6.163529897, \n",
    "                     6.174373123, 6.185107998, 6.195738688, \n",
    "                     6.206269099, 6.216702891, 6.227043498, \n",
    "                     6.237294147, 6.247457872, 6.257537527, \n",
    "                     6.267535799, 6.277455222, 6.287298187, \n",
    "                     6.297066948, 6.306763637, 6.31639027, \n",
    "                     6.325948754, 6.335440896, 6.344868406, \n",
    "                     6.354232908, 6.363535942, 6.372778972, \n",
    "                     6.381963388, 6.391090513, 6.400161605, \n",
    "                     6.409177863, 6.418140429, 6.427050393])\n",
    "HoRT_FeO = -109.7966298\n",
    "SoR_FeO = 7.303137557\n",
    "\n",
    "# Fe3O4 data\n",
    "CpoR_Fe3O4 = np.array([17.70205065, 17.76448405, 17.91908664, \n",
    "                       18.07168569, 18.2224119, 18.37138586, \n",
    "                       18.51871897, 18.66451424, 18.80886707, \n",
    "                       18.95186592, 19.09359287, 19.2341242, \n",
    "                       19.37353085, 19.5118789, 19.64922991, \n",
    "                       19.78564135, 19.92116686, 20.0558566, \n",
    "                       20.18975749, 20.32291349, 20.45536576, \n",
    "                       20.58715296, 20.71831135, 20.848875, \n",
    "                       20.97887597, 21.10834441, 21.23730872, \n",
    "                       21.36579565, 21.49383045, 21.62143694, \n",
    "                       21.7486376, 21.8754537, 22.00190534, \n",
    "                       22.12801153, 22.25379029, 22.37925867, \n",
    "                       22.50443285, 22.62932817, 22.75395919, \n",
    "                       22.87833973, 23.00248293, 23.12640128])\n",
    "HoRT_Fe3O4 = -452.3912981\n",
    "SoR_Fe3O4 = 17.46008698\n",
    "\n",
    "# Fe2O3 data\n",
    "CpoR_Fe2O3 = np.array([12.47757489, 12.52697445, 12.64787689, \n",
    "                       12.7652535, 12.87931824, 12.99026871, \n",
    "                       13.09828757, 13.20354395, 13.3061946, \n",
    "                       13.40638501, 13.50425036, 13.59991643, \n",
    "                       13.69350035, 13.78511133, 13.87485131, \n",
    "                       13.96281555, 14.04909315, 14.13376754, \n",
    "                       14.21691692, 14.29861465, 14.37892962, \n",
    "                       14.45792659, 14.53566649, 14.6122067, \n",
    "                       14.68760129, 14.76190128, 14.83515483, \n",
    "                       14.90740747, 14.97870223, 15.04907987, \n",
    "                       15.11857898, 15.18723616, 15.25508613, \n",
    "                       15.32216185, 15.38849466, 15.45411434, \n",
    "                       15.51904926, 15.58332641, 15.64697155, \n",
    "                       15.71000921, 15.77246282, 15.83435478])\n",
    "HoRT_Fe2O3 = -333.1719719\n",
    "SoR_Fe2O3 = 10.49736076\n",
    "\n",
    "O2 = StatMech(vib_wavenumbers=np.array([1580.2]),\n",
    "              potentialenergy=-0.1879339246281043, \n",
    "              spin=1.,\n",
    "              symmetrynumber=2,\n",
    "              atoms=molecule('O2'), \n",
    "              **presets['idealgas'])\n",
    "\n",
    "species = {\n",
    "    'Fe': Nasa.from_data(name='Fe', T=T, CpoR=CpoR_Fe, T_ref=T_ref, \n",
    "                         HoRT_ref=HoRT_Fe, SoR_ref=SoR_Fe),\n",
    "    'FeO': Nasa.from_data(name='FeO', T=T, CpoR=CpoR_FeO, T_ref=T_ref, \n",
    "                          HoRT_ref=HoRT_FeO, SoR_ref=SoR_FeO),\n",
    "    'Fe3O4': Nasa.from_data(name='Fe3O4', T=T, CpoR=CpoR_Fe3O4, T_ref=T_ref, \n",
    "                            HoRT_ref=HoRT_Fe3O4, SoR_ref=SoR_Fe3O4),\n",
    "    'Fe2O3': Nasa.from_data(name='Fe2O3', T=T, CpoR=CpoR_Fe2O3, T_ref=T_ref, \n",
    "                            HoRT_ref=HoRT_Fe2O3, SoR_ref=SoR_Fe2O3),\n",
    "    'O2': O2,\n",
    "}\n",
    "\n",
    "# (Optional) Print the species dictionary\n",
    "pprint(species)"
   ]
  },
  {
   "cell_type": "markdown",
   "metadata": {},
   "source": [
    "## Create Reactions for Phase Diagram\n",
    "The reactions will be initialized and put in a list. Notice that the stiochiometric coefficient of O2 in all reactions is 1 to ensure consistency. If you are unfamiliar with initializing reactions, see the reactions example."
   ]
  },
  {
   "cell_type": "code",
   "execution_count": 2,
   "metadata": {},
   "outputs": [],
   "source": [
    "from pMuTT.reaction import Reaction\n",
    "\n",
    "reactions = [\n",
    "    Reaction.from_string(reaction_str='2Fe+O2=2FeO', species=species),\n",
    "    Reaction.from_string(reaction_str='{}Fe+O2={}Fe2O3'.format(4./3., 2./3.), \n",
    "                         species=species),\n",
    "    Reaction.from_string(reaction_str='1.5Fe+O2=0.5Fe3O4', species=species)\n",
    "]"
   ]
  },
  {
   "cell_type": "markdown",
   "metadata": {},
   "source": [
    "## Create PhaseDiagram Object\n",
    "Now we have everything we need to create the ``PhaseDiagram`` object."
   ]
  },
  {
   "cell_type": "code",
   "execution_count": 3,
   "metadata": {},
   "outputs": [],
   "source": [
    "from pMuTT.reaction.phasediagram import PhaseDiagram\n",
    "\n",
    "phase_diagram = PhaseDiagram(reactions=reactions)"
   ]
  },
  {
   "cell_type": "markdown",
   "metadata": {},
   "source": [
    "## Creating a 1D Phase Diagram"
   ]
  },
  {
   "cell_type": "code",
   "execution_count": 4,
   "metadata": {},
   "outputs": [
    {
     "data": {
      "text/plain": [
       "Text(0.5,0,'Temperature (K)')"
      ]
     },
     "execution_count": 4,
     "metadata": {},
     "output_type": "execute_result"
    },
    {
     "data": {
      "image/png": "[encoded data removed]",
      "text/plain": [
       "<matplotlib.figure.Figure at 0x25de90f6588>"
      ]
     },
     "metadata": {},
     "output_type": "display_data"
    }
   ],
   "source": [
    "from matplotlib import pyplot as plt\n",
    "\n",
    "fig1, ax1 = phase_diagram.plot_1D(x_name='T', x_values=T, P=1., G_units='kJ/mol')\n",
    "\n",
    "'''Plotting adjustments'''\n",
    "# Add custom legend\n",
    "ax1.legend(labels=['FeO', 'Fe3O4', 'Fe2O3'])\n",
    "# Add custom x axis label\n",
    "ax1.set_xlabel('Temperature (K)')\n"
   ]
  },
  {
   "cell_type": "markdown",
   "metadata": {},
   "source": [
    "## Creating a 2D Phase Diagram"
   ]
  },
  {
   "cell_type": "code",
   "execution_count": 5,
   "metadata": {},
   "outputs": [
    {
     "data": {
      "text/plain": [
       "[Text(1,0,'FeO'), Text(1,0,'Fe3O4'), Text(1,0,'Fe2O3')]"
      ]
     },
     "execution_count": 5,
     "metadata": {},
     "output_type": "execute_result"
    },
    {
     "data": {
      "image/png": "[encoded data removed]",
      "text/plain": [
       "<matplotlib.figure.Figure at 0x25de02ee208>"
      ]
     },
     "metadata": {},
     "output_type": "display_data"
    }
   ],
   "source": [
    "# Generate Pressure range\n",
    "P = np.logspace(-3, 3)\n",
    "\n",
    "fig3, ax3, c3, cbar3 = phase_diagram.plot_2D(x1_name='T', x1_values=T, \n",
    "                                             x2_name='P', x2_values=P, \n",
    "                                             G_units='kJ/mol')\n",
    "\n",
    "'''Plotting adjustments'''\n",
    "# Add custom axis labels\n",
    "ax3.set_xlabel('Temperature (K)')\n",
    "ax3.set_ylabel('Pressure (bar)')\n",
    "# Change y axis to log scale\n",
    "ax3.set_yscale('log')\n",
    "# Add custom colors\n",
    "plt.set_cmap('jet')\n",
    "# Set custom labels on colorbar\n",
    "cbar3.ax.set_yticklabels(['FeO', 'Fe3O4', 'Fe2O3'])"
   ]
  },
  {
   "cell_type": "code",
   "execution_count": null,
   "metadata": {},
   "outputs": [],
   "source": []
  }
 ],
 "metadata": {
  "kernelspec": {
   "display_name": "Python 3",
   "language": "python",
   "name": "python3"
  },
  "language_info": {
   "codemirror_mode": {
    "name": "ipython",
    "version": 3
   },
   "file_extension": ".py",
   "mimetype": "text/x-python",
   "name": "python",
   "nbconvert_exporter": "python",
   "pygments_lexer": "ipython3",
   "version": "3.7.2"
  }
 },
 "nbformat": 4,
 "nbformat_minor": 2
}
